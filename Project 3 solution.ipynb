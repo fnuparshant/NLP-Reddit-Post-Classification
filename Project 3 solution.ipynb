{
 "cells": [
  {
   "cell_type": "markdown",
   "id": "e6f3f077-936b-4cb4-ad4a-3f2df726687b",
   "metadata": {},
   "source": [
    "# ![](https://ga-dash.s3.amazonaws.com/production/assets/logo-9f88ae6c9c3871690e33280fcf557f33.png) **Project 3: Web APIs & NLP**"
   ]
  },
  {
   "cell_type": "markdown",
   "id": "eb27a51c-4b10-4feb-8281-1497d92ec340",
   "metadata": {},
   "source": [
    "## **Problem Statement:** Predicting if a post came from Chess subreddit or Football subreddit."
   ]
  },
  {
   "cell_type": "markdown",
   "id": "41de20fc-e8a4-488d-9dd2-914df4e80419",
   "metadata": {},
   "source": [
    "#### Importing libraries"
   ]
  },
  {
   "cell_type": "code",
   "execution_count": 2,
   "id": "84be6e3f-5355-4d88-ac6b-c34c06501825",
   "metadata": {},
   "outputs": [],
   "source": [
    "import requests\n",
    "import pandas as pd\n",
    "import time\n",
    "import datetime as dt\n",
    "\n",
    "import seaborn as sns\n",
    "from sklearn.feature_extraction.text import CountVectorizer,TfidfVectorizer\n",
    "import matplotlib.pyplot as plt\n",
    "from sklearn.model_selection import train_test_split, GridSearchCV, cross_val_score\n",
    "from sklearn.ensemble import RandomForestClassifier, ExtraTreesClassifier\n",
    "from sklearn.linear_model import LogisticRegression\n",
    "\n",
    "import nltk\n",
    "from nltk.tokenize import RegexpTokenizer\n",
    "from nltk.stem import WordNetLemmatizer,PorterStemmer\n",
    "import re\n",
    "from sklearn.metrics import confusion_matrix, ConfusionMatrixDisplay#plot_confusion_matrix\n",
    "\n",
    "import warnings\n",
    "warnings.filterwarnings(\"ignore\")"
   ]
  },
  {
   "cell_type": "markdown",
   "id": "794759e7-942e-46d1-ab1b-70495773d3cf",
   "metadata": {},
   "source": [
    "## **Data Gathering**"
   ]
  },
  {
   "cell_type": "code",
   "execution_count": 73,
   "id": "319d26c5-da48-4279-8669-91273f00b0f0",
   "metadata": {},
   "outputs": [],
   "source": [
    "s_type='submission'\n",
    "subreddit='chess'\n",
    "unix_time_stamp=1626811825\n",
    "\n",
    "url=f'https://api.pushshift.io/reddit/search/{s_type}/?subreddit={subreddit}&before={unix_time_stamp}&size=100'\n",
    "\n",
    "res=requests.get(url)\n",
    "assert res.status_code==200\n",
    "post_list=res.json()['data']"
   ]
  },
  {
   "cell_type": "code",
   "execution_count": 74,
   "id": "3b548701-162f-4e80-b731-93de79370685",
   "metadata": {},
   "outputs": [
    {
     "data": {
      "text/plain": [
       "200"
      ]
     },
     "execution_count": 74,
     "metadata": {},
     "output_type": "execute_result"
    }
   ],
   "source": [
    "res.status_code"
   ]
  },
  {
   "cell_type": "code",
   "execution_count": 75,
   "id": "d0444292-7daf-4518-86ab-b85991133e4d",
   "metadata": {},
   "outputs": [],
   "source": [
    "full_df=pd.DataFrame(post_list)[['title','subreddit','created_utc']]"
   ]
  },
  {
   "cell_type": "code",
   "execution_count": 76,
   "id": "513c48ae-6633-45b6-b639-79ac8aa8a247",
   "metadata": {},
   "outputs": [],
   "source": [
    "full_df.to_csv('chess_posts.csv')"
   ]
  },
  {
   "cell_type": "code",
   "execution_count": 77,
   "id": "53df9309-b81f-47b4-8b14-08b0566a25c2",
   "metadata": {},
   "outputs": [],
   "source": [
    "s_type='submission'\n",
    "subreddit='chess'\n",
    "unix_time_stamp=1626811825\n",
    "def pushshift_query(full_df_path,subreddit,s_type,iters=49):\n",
    "    for pull in range(iters):\n",
    "        full_df=pd.read_csv(full_df_path)\n",
    "        url=f'https://api.pushshift.io/reddit/search/{s_type}/?subreddit={subreddit}&before={full_df[\"created_utc\"].min()}&size=100'\n",
    "        \n",
    "        res=requests.get(url)\n",
    "        if res.status_code==200:\n",
    "            post_list=res.json()['data']\n",
    "            temp_df=pd.DataFrame(post_list)[['title','subreddit','created_utc']]\n",
    "            full_df=pd.concat([full_df,temp_df])\n",
    "            print(full_df.shape)\n",
    "            print(full_df['title'].nunique())\n",
    "            print('waiting until next pull....')\n",
    "            \n",
    "            time.sleep(5)\n",
    "        else:\n",
    "            continue\n",
    "        full_df.to_csv(full_df_path,index=False)"
   ]
  },
  {
   "cell_type": "code",
   "execution_count": 78,
   "id": "e3675334-17c5-47d3-9943-8fc26f73dd36",
   "metadata": {},
   "outputs": [
    {
     "name": "stdout",
     "output_type": "stream",
     "text": [
      "(200, 4)\n",
      "199\n",
      "waiting until next pull....\n",
      "(300, 4)\n",
      "298\n",
      "waiting until next pull....\n",
      "(400, 4)\n",
      "397\n",
      "waiting until next pull....\n",
      "(500, 4)\n",
      "497\n",
      "waiting until next pull....\n",
      "(600, 4)\n",
      "595\n",
      "waiting until next pull....\n",
      "(700, 4)\n",
      "693\n",
      "waiting until next pull....\n",
      "(800, 4)\n",
      "790\n",
      "waiting until next pull....\n",
      "(900, 4)\n",
      "886\n",
      "waiting until next pull....\n",
      "(1000, 4)\n",
      "985\n",
      "waiting until next pull....\n",
      "(1100, 4)\n",
      "1083\n",
      "waiting until next pull....\n",
      "(1200, 4)\n",
      "1182\n",
      "waiting until next pull....\n",
      "(1300, 4)\n",
      "1282\n",
      "waiting until next pull....\n",
      "(1400, 4)\n",
      "1380\n",
      "waiting until next pull....\n",
      "(1500, 4)\n",
      "1477\n",
      "waiting until next pull....\n",
      "(1600, 4)\n",
      "1577\n",
      "waiting until next pull....\n",
      "(1700, 4)\n",
      "1676\n",
      "waiting until next pull....\n",
      "(1800, 4)\n",
      "1771\n",
      "waiting until next pull....\n",
      "(1900, 4)\n",
      "1867\n",
      "waiting until next pull....\n",
      "(2000, 4)\n",
      "1964\n",
      "waiting until next pull....\n",
      "(2100, 4)\n",
      "2061\n",
      "waiting until next pull....\n",
      "(2200, 4)\n",
      "2159\n",
      "waiting until next pull....\n",
      "(2300, 4)\n",
      "2256\n",
      "waiting until next pull....\n",
      "(2400, 4)\n",
      "2353\n",
      "waiting until next pull....\n",
      "(2500, 4)\n",
      "2450\n",
      "waiting until next pull....\n",
      "(2600, 4)\n",
      "2547\n",
      "waiting until next pull....\n",
      "(2700, 4)\n",
      "2646\n",
      "waiting until next pull....\n",
      "(2800, 4)\n",
      "2744\n",
      "waiting until next pull....\n",
      "(2900, 4)\n",
      "2841\n",
      "waiting until next pull....\n",
      "(3000, 4)\n",
      "2939\n",
      "waiting until next pull....\n",
      "(3100, 4)\n",
      "3036\n",
      "waiting until next pull....\n",
      "(3200, 4)\n",
      "3133\n",
      "waiting until next pull....\n",
      "(3300, 4)\n",
      "3229\n",
      "waiting until next pull....\n",
      "(3400, 4)\n",
      "3327\n",
      "waiting until next pull....\n",
      "(3500, 4)\n",
      "3427\n",
      "waiting until next pull....\n",
      "(3600, 4)\n",
      "3525\n",
      "waiting until next pull....\n",
      "(3700, 4)\n",
      "3623\n",
      "waiting until next pull....\n",
      "(3800, 4)\n",
      "3715\n",
      "waiting until next pull....\n",
      "(3900, 4)\n",
      "3810\n",
      "waiting until next pull....\n",
      "(4000, 4)\n",
      "3907\n",
      "waiting until next pull....\n",
      "(4100, 4)\n",
      "4005\n",
      "waiting until next pull....\n",
      "(4200, 4)\n",
      "4103\n",
      "waiting until next pull....\n",
      "(4300, 4)\n",
      "4199\n",
      "waiting until next pull....\n",
      "(4400, 4)\n",
      "4298\n",
      "waiting until next pull....\n",
      "(4500, 4)\n",
      "4395\n",
      "waiting until next pull....\n",
      "(4600, 4)\n",
      "4491\n",
      "waiting until next pull....\n",
      "(4700, 4)\n",
      "4590\n",
      "waiting until next pull....\n",
      "(4800, 4)\n",
      "4682\n",
      "waiting until next pull....\n",
      "(4900, 4)\n",
      "4780\n",
      "waiting until next pull....\n",
      "(5000, 4)\n",
      "4879\n",
      "waiting until next pull....\n"
     ]
    }
   ],
   "source": [
    "pushshift_query(full_df_path='chess_posts.csv',subreddit='chess',s_type='submission')"
   ]
  },
  {
   "cell_type": "code",
   "execution_count": 79,
   "id": "b26e66c8-b5a9-4ac0-9394-78f7b0af6853",
   "metadata": {},
   "outputs": [],
   "source": [
    "s_type='submission'\n",
    "subreddit='football'\n",
    "unix_time_stamp=1626811825\n",
    "\n",
    "url=f'https://api.pushshift.io/reddit/search/{s_type}/?subreddit={subreddit}&before={unix_time_stamp}&size=100'\n",
    "\n",
    "res=requests.get(url)\n",
    "assert res.status_code==200\n",
    "post_list=res.json()['data']"
   ]
  },
  {
   "cell_type": "code",
   "execution_count": 80,
   "id": "cbfa15fb-35e9-4cb7-ab22-92dc3b03ddb9",
   "metadata": {},
   "outputs": [
    {
     "data": {
      "text/plain": [
       "200"
      ]
     },
     "execution_count": 80,
     "metadata": {},
     "output_type": "execute_result"
    }
   ],
   "source": [
    "res.status_code"
   ]
  },
  {
   "cell_type": "code",
   "execution_count": 81,
   "id": "4d78e676-086c-4673-a8b5-7272f691b122",
   "metadata": {},
   "outputs": [],
   "source": [
    "full_df=pd.DataFrame(post_list)[['title','subreddit','created_utc']]"
   ]
  },
  {
   "cell_type": "code",
   "execution_count": 82,
   "id": "221f9ff8-47f9-4f32-b146-1cdcf358c97f",
   "metadata": {},
   "outputs": [],
   "source": [
    "full_df.to_csv('football_posts.csv')"
   ]
  },
  {
   "cell_type": "code",
   "execution_count": 83,
   "id": "7b52d19c-eb21-49d9-9ede-a50653ae314c",
   "metadata": {},
   "outputs": [
    {
     "name": "stdout",
     "output_type": "stream",
     "text": [
      "(200, 4)\n",
      "189\n",
      "waiting until next pull....\n",
      "(300, 4)\n",
      "268\n",
      "waiting until next pull....\n",
      "(400, 4)\n",
      "357\n",
      "waiting until next pull....\n",
      "(500, 4)\n",
      "443\n",
      "waiting until next pull....\n",
      "(600, 4)\n",
      "540\n",
      "waiting until next pull....\n",
      "(700, 4)\n",
      "624\n",
      "waiting until next pull....\n",
      "(800, 4)\n",
      "723\n",
      "waiting until next pull....\n",
      "(900, 4)\n",
      "820\n",
      "waiting until next pull....\n",
      "(1000, 4)\n",
      "916\n",
      "waiting until next pull....\n",
      "(1100, 4)\n",
      "1004\n",
      "waiting until next pull....\n",
      "(1200, 4)\n",
      "1090\n",
      "waiting until next pull....\n",
      "(1300, 4)\n",
      "1177\n",
      "waiting until next pull....\n",
      "(1400, 4)\n",
      "1265\n",
      "waiting until next pull....\n",
      "(1500, 4)\n",
      "1349\n",
      "waiting until next pull....\n",
      "(1600, 4)\n",
      "1444\n",
      "waiting until next pull....\n",
      "(1700, 4)\n",
      "1526\n",
      "waiting until next pull....\n",
      "(1800, 4)\n",
      "1614\n",
      "waiting until next pull....\n",
      "(1900, 4)\n",
      "1701\n",
      "waiting until next pull....\n",
      "(2000, 4)\n",
      "1790\n",
      "waiting until next pull....\n",
      "(2100, 4)\n",
      "1875\n",
      "waiting until next pull....\n",
      "(2200, 4)\n",
      "1948\n",
      "waiting until next pull....\n",
      "(2300, 4)\n",
      "2035\n",
      "waiting until next pull....\n",
      "(2400, 4)\n",
      "2113\n",
      "waiting until next pull....\n",
      "(2500, 4)\n",
      "2200\n",
      "waiting until next pull....\n",
      "(2600, 4)\n",
      "2285\n",
      "waiting until next pull....\n",
      "(2700, 4)\n",
      "2373\n",
      "waiting until next pull....\n",
      "(2800, 4)\n",
      "2457\n",
      "waiting until next pull....\n",
      "(2900, 4)\n",
      "2543\n",
      "waiting until next pull....\n",
      "(3000, 4)\n",
      "2630\n",
      "waiting until next pull....\n",
      "(3100, 4)\n",
      "2727\n",
      "waiting until next pull....\n",
      "(3200, 4)\n",
      "2804\n",
      "waiting until next pull....\n",
      "(3300, 4)\n",
      "2892\n",
      "waiting until next pull....\n",
      "(3400, 4)\n",
      "2970\n",
      "waiting until next pull....\n",
      "(3500, 4)\n",
      "3056\n",
      "waiting until next pull....\n",
      "(3600, 4)\n",
      "3134\n",
      "waiting until next pull....\n",
      "(3700, 4)\n",
      "3208\n",
      "waiting until next pull....\n",
      "(3800, 4)\n",
      "3305\n",
      "waiting until next pull....\n",
      "(3900, 4)\n",
      "3402\n",
      "waiting until next pull....\n",
      "(4000, 4)\n",
      "3500\n",
      "waiting until next pull....\n",
      "(4100, 4)\n",
      "3596\n",
      "waiting until next pull....\n",
      "(4200, 4)\n",
      "3691\n",
      "waiting until next pull....\n",
      "(4300, 4)\n",
      "3788\n",
      "waiting until next pull....\n",
      "(4400, 4)\n",
      "3884\n",
      "waiting until next pull....\n",
      "(4500, 4)\n",
      "3980\n",
      "waiting until next pull....\n",
      "(4600, 4)\n",
      "4076\n",
      "waiting until next pull....\n",
      "(4700, 4)\n",
      "4170\n",
      "waiting until next pull....\n",
      "(4800, 4)\n",
      "4266\n",
      "waiting until next pull....\n",
      "(4900, 4)\n",
      "4361\n",
      "waiting until next pull....\n",
      "(5000, 4)\n",
      "4453\n",
      "waiting until next pull....\n"
     ]
    }
   ],
   "source": [
    "pushshift_query(full_df_path='football_posts.csv',subreddit='football',s_type='submission')"
   ]
  },
  {
   "cell_type": "code",
   "execution_count": 3,
   "id": "e2085014-1646-48d9-b2d8-c415b003ed89",
   "metadata": {},
   "outputs": [],
   "source": [
    "df_chess=pd.read_csv('./chess_posts.csv')   #Chess csv"
   ]
  },
  {
   "cell_type": "code",
   "execution_count": 4,
   "id": "76592ce7-f61c-42da-94f0-0383b7f283b5",
   "metadata": {},
   "outputs": [],
   "source": [
    "df_football=pd.read_csv('./football_posts.csv')    #Football csv"
   ]
  },
  {
   "cell_type": "code",
   "execution_count": 5,
   "id": "e1efa584-d703-4643-abd7-2f4749167073",
   "metadata": {},
   "outputs": [
    {
     "data": {
      "text/plain": [
       "(5000, 4)"
      ]
     },
     "execution_count": 5,
     "metadata": {},
     "output_type": "execute_result"
    }
   ],
   "source": [
    "df_chess.shape"
   ]
  },
  {
   "cell_type": "code",
   "execution_count": 6,
   "id": "556f3a4e-0973-41c2-b675-25c7c61c5b11",
   "metadata": {},
   "outputs": [
    {
     "data": {
      "text/plain": [
       "(5000, 4)"
      ]
     },
     "execution_count": 6,
     "metadata": {},
     "output_type": "execute_result"
    }
   ],
   "source": [
    "df_football.shape"
   ]
  },
  {
   "cell_type": "markdown",
   "id": "0856aa58-d29f-4326-926e-6ba4bcd4e1dc",
   "metadata": {},
   "source": [
    "## Data Cleaning, Pre-Processing, and EDA"
   ]
  },
  {
   "cell_type": "code",
   "execution_count": 7,
   "id": "c01ae919-70f8-4931-84ee-8f5bb5b7dde4",
   "metadata": {},
   "outputs": [
    {
     "data": {
      "text/html": [
       "<div>\n",
       "<style scoped>\n",
       "    .dataframe tbody tr th:only-of-type {\n",
       "        vertical-align: middle;\n",
       "    }\n",
       "\n",
       "    .dataframe tbody tr th {\n",
       "        vertical-align: top;\n",
       "    }\n",
       "\n",
       "    .dataframe thead th {\n",
       "        text-align: right;\n",
       "    }\n",
       "</style>\n",
       "<table border=\"1\" class=\"dataframe\">\n",
       "  <thead>\n",
       "    <tr style=\"text-align: right;\">\n",
       "      <th></th>\n",
       "      <th>title</th>\n",
       "      <th>subreddit</th>\n",
       "    </tr>\n",
       "  </thead>\n",
       "  <tbody>\n",
       "    <tr>\n",
       "      <th>0</th>\n",
       "      <td>Sand castle in Finland, Lappeenranta called Ga...</td>\n",
       "      <td>1</td>\n",
       "    </tr>\n",
       "    <tr>\n",
       "      <th>1</th>\n",
       "      <td>Quick 1300+ rating puzzle. I'm saving and shar...</td>\n",
       "      <td>1</td>\n",
       "    </tr>\n",
       "    <tr>\n",
       "      <th>2</th>\n",
       "      <td>For some reason I like these pieces a lot. Whe...</td>\n",
       "      <td>1</td>\n",
       "    </tr>\n",
       "    <tr>\n",
       "      <th>3</th>\n",
       "      <td>How similar is Aimless Blunder Preventer ratin...</td>\n",
       "      <td>1</td>\n",
       "    </tr>\n",
       "    <tr>\n",
       "      <th>4</th>\n",
       "      <td>Naka take of Zhou article</td>\n",
       "      <td>1</td>\n",
       "    </tr>\n",
       "  </tbody>\n",
       "</table>\n",
       "</div>"
      ],
      "text/plain": [
       "                                               title  subreddit\n",
       "0  Sand castle in Finland, Lappeenranta called Ga...          1\n",
       "1  Quick 1300+ rating puzzle. I'm saving and shar...          1\n",
       "2  For some reason I like these pieces a lot. Whe...          1\n",
       "3  How similar is Aimless Blunder Preventer ratin...          1\n",
       "4                          Naka take of Zhou article          1"
      ]
     },
     "execution_count": 7,
     "metadata": {},
     "output_type": "execute_result"
    }
   ],
   "source": [
    "df_chess=pd.read_csv('./chess_posts.csv')\n",
    "df_chess=df_chess.drop([\"Unnamed: 0\",\"created_utc\"], True)\n",
    "df_chess['subreddit'].replace(to_replace='chess', value=1, inplace=True)\n",
    "df_chess.head()"
   ]
  },
  {
   "cell_type": "code",
   "execution_count": 8,
   "id": "233d4de6-381e-4f53-adad-35c59ab99a2d",
   "metadata": {},
   "outputs": [
    {
     "data": {
      "text/plain": [
       "4879"
      ]
     },
     "execution_count": 8,
     "metadata": {},
     "output_type": "execute_result"
    }
   ],
   "source": [
    "df_chess['title'].nunique()    #prints the number of unique users in title"
   ]
  },
  {
   "cell_type": "code",
   "execution_count": 9,
   "id": "6ef71cc9-7ed9-4d79-83af-a1027f41167f",
   "metadata": {},
   "outputs": [
    {
     "data": {
      "text/plain": [
       "(4879, 2)"
      ]
     },
     "execution_count": 9,
     "metadata": {},
     "output_type": "execute_result"
    }
   ],
   "source": [
    "df_chess = df_chess.drop_duplicates(subset=\"title\")\n",
    "df_chess.shape"
   ]
  },
  {
   "cell_type": "code",
   "execution_count": 10,
   "id": "97cca77f-f747-4cc4-a33f-e9d35d1af632",
   "metadata": {},
   "outputs": [
    {
     "data": {
      "text/html": [
       "<div>\n",
       "<style scoped>\n",
       "    .dataframe tbody tr th:only-of-type {\n",
       "        vertical-align: middle;\n",
       "    }\n",
       "\n",
       "    .dataframe tbody tr th {\n",
       "        vertical-align: top;\n",
       "    }\n",
       "\n",
       "    .dataframe thead th {\n",
       "        text-align: right;\n",
       "    }\n",
       "</style>\n",
       "<table border=\"1\" class=\"dataframe\">\n",
       "  <thead>\n",
       "    <tr style=\"text-align: right;\">\n",
       "      <th></th>\n",
       "      <th>title</th>\n",
       "      <th>subreddit</th>\n",
       "    </tr>\n",
       "  </thead>\n",
       "  <tbody>\n",
       "    <tr>\n",
       "      <th>0</th>\n",
       "      <td>It was on my recommended, so I watched it agai...</td>\n",
       "      <td>0</td>\n",
       "    </tr>\n",
       "    <tr>\n",
       "      <th>1</th>\n",
       "      <td>Selling football cleats and shoes size 13-21 U...</td>\n",
       "      <td>0</td>\n",
       "    </tr>\n",
       "    <tr>\n",
       "      <th>2</th>\n",
       "      <td>5 Liverpool outcasts Jurgen Klopp must make tr...</td>\n",
       "      <td>0</td>\n",
       "    </tr>\n",
       "    <tr>\n",
       "      <th>3</th>\n",
       "      <td>Chelsea wonderkid Bate close to joining Leeds ...</td>\n",
       "      <td>0</td>\n",
       "    </tr>\n",
       "    <tr>\n",
       "      <th>4</th>\n",
       "      <td>Pogba and CR7 break bread 🥪🍞🍞🍞🥪 no coca cola</td>\n",
       "      <td>0</td>\n",
       "    </tr>\n",
       "  </tbody>\n",
       "</table>\n",
       "</div>"
      ],
      "text/plain": [
       "                                               title  subreddit\n",
       "0  It was on my recommended, so I watched it agai...          0\n",
       "1  Selling football cleats and shoes size 13-21 U...          0\n",
       "2  5 Liverpool outcasts Jurgen Klopp must make tr...          0\n",
       "3  Chelsea wonderkid Bate close to joining Leeds ...          0\n",
       "4       Pogba and CR7 break bread 🥪🍞🍞🍞🥪 no coca cola          0"
      ]
     },
     "execution_count": 10,
     "metadata": {},
     "output_type": "execute_result"
    }
   ],
   "source": [
    "df_football=pd.read_csv('./football_posts.csv')\n",
    "df_football=df_football.drop([\"Unnamed: 0\",\"created_utc\"], True)\n",
    "df_football['subreddit'].replace(to_replace='football', value=0, inplace=True)\n",
    "df_football.head()"
   ]
  },
  {
   "cell_type": "code",
   "execution_count": 11,
   "id": "7f04b37e-f1bf-417d-a6f8-fa55bcddc9a3",
   "metadata": {},
   "outputs": [
    {
     "data": {
      "text/plain": [
       "4453"
      ]
     },
     "execution_count": 11,
     "metadata": {},
     "output_type": "execute_result"
    }
   ],
   "source": [
    "df_football['title'].nunique()"
   ]
  },
  {
   "cell_type": "code",
   "execution_count": 12,
   "id": "975e925b-4c07-4c38-a3bc-5824e9d6cfb2",
   "metadata": {},
   "outputs": [
    {
     "data": {
      "text/html": [
       "<div>\n",
       "<style scoped>\n",
       "    .dataframe tbody tr th:only-of-type {\n",
       "        vertical-align: middle;\n",
       "    }\n",
       "\n",
       "    .dataframe tbody tr th {\n",
       "        vertical-align: top;\n",
       "    }\n",
       "\n",
       "    .dataframe thead th {\n",
       "        text-align: right;\n",
       "    }\n",
       "</style>\n",
       "<table border=\"1\" class=\"dataframe\">\n",
       "  <thead>\n",
       "    <tr style=\"text-align: right;\">\n",
       "      <th></th>\n",
       "      <th>title</th>\n",
       "      <th>subreddit</th>\n",
       "    </tr>\n",
       "  </thead>\n",
       "  <tbody>\n",
       "    <tr>\n",
       "      <th>0</th>\n",
       "      <td>Sand castle in Finland, Lappeenranta called Ga...</td>\n",
       "      <td>1</td>\n",
       "    </tr>\n",
       "    <tr>\n",
       "      <th>1</th>\n",
       "      <td>Quick 1300+ rating puzzle. I'm saving and shar...</td>\n",
       "      <td>1</td>\n",
       "    </tr>\n",
       "    <tr>\n",
       "      <th>2</th>\n",
       "      <td>For some reason I like these pieces a lot. Whe...</td>\n",
       "      <td>1</td>\n",
       "    </tr>\n",
       "    <tr>\n",
       "      <th>3</th>\n",
       "      <td>How similar is Aimless Blunder Preventer ratin...</td>\n",
       "      <td>1</td>\n",
       "    </tr>\n",
       "    <tr>\n",
       "      <th>4</th>\n",
       "      <td>Naka take of Zhou article</td>\n",
       "      <td>1</td>\n",
       "    </tr>\n",
       "    <tr>\n",
       "      <th>...</th>\n",
       "      <td>...</td>\n",
       "      <td>...</td>\n",
       "    </tr>\n",
       "    <tr>\n",
       "      <th>4995</th>\n",
       "      <td>Aaron Rodgers tells Packers he doesn't want to...</td>\n",
       "      <td>0</td>\n",
       "    </tr>\n",
       "    <tr>\n",
       "      <th>4996</th>\n",
       "      <td>Pes 2021 or Fifa 21 which to buy?</td>\n",
       "      <td>0</td>\n",
       "    </tr>\n",
       "    <tr>\n",
       "      <th>4997</th>\n",
       "      <td>[Match thread] Manchester United vs AS Roma</td>\n",
       "      <td>0</td>\n",
       "    </tr>\n",
       "    <tr>\n",
       "      <th>4998</th>\n",
       "      <td>[Match thread] Villarreal vs Arsenal</td>\n",
       "      <td>0</td>\n",
       "    </tr>\n",
       "    <tr>\n",
       "      <th>4999</th>\n",
       "      <td>Barcelona vs Granada today's match threads</td>\n",
       "      <td>0</td>\n",
       "    </tr>\n",
       "  </tbody>\n",
       "</table>\n",
       "<p>9332 rows × 2 columns</p>\n",
       "</div>"
      ],
      "text/plain": [
       "                                                  title  subreddit\n",
       "0     Sand castle in Finland, Lappeenranta called Ga...          1\n",
       "1     Quick 1300+ rating puzzle. I'm saving and shar...          1\n",
       "2     For some reason I like these pieces a lot. Whe...          1\n",
       "3     How similar is Aimless Blunder Preventer ratin...          1\n",
       "4                             Naka take of Zhou article          1\n",
       "...                                                 ...        ...\n",
       "4995  Aaron Rodgers tells Packers he doesn't want to...          0\n",
       "4996                  Pes 2021 or Fifa 21 which to buy?          0\n",
       "4997        [Match thread] Manchester United vs AS Roma          0\n",
       "4998               [Match thread] Villarreal vs Arsenal          0\n",
       "4999         Barcelona vs Granada today's match threads          0\n",
       "\n",
       "[9332 rows x 2 columns]"
      ]
     },
     "execution_count": 12,
     "metadata": {},
     "output_type": "execute_result"
    }
   ],
   "source": [
    "df_football = df_football.drop_duplicates(subset=\"title\")\n",
    "df=pd.concat([df_chess,df_football], axis=0)\n",
    "df                                             #creating one single df for Chess and Football"
   ]
  },
  {
   "cell_type": "code",
   "execution_count": 13,
   "id": "082ea780-ec46-4073-860b-20a20adda33e",
   "metadata": {},
   "outputs": [],
   "source": [
    "df.reset_index(drop=True,inplace=True)"
   ]
  },
  {
   "cell_type": "markdown",
   "id": "9b764eee-35a5-4107-a49d-ee7f57768201",
   "metadata": {},
   "source": [
    "### Baseline Score"
   ]
  },
  {
   "cell_type": "code",
   "execution_count": 14,
   "id": "9a4876a0-ed7d-4fa2-bb5d-b2ddf6889b9c",
   "metadata": {},
   "outputs": [
    {
     "data": {
      "text/plain": [
       "1    0.522825\n",
       "0    0.477175\n",
       "Name: subreddit, dtype: float64"
      ]
     },
     "execution_count": 14,
     "metadata": {},
     "output_type": "execute_result"
    }
   ],
   "source": [
    "df['subreddit'].value_counts(normalize=True)"
   ]
  },
  {
   "cell_type": "markdown",
   "id": "e13a417e-9343-498a-8ef0-51a9679f3e0b",
   "metadata": {},
   "source": [
    "**Interpretation:** This means that I will be right 52% of the time if I just pick Chess for the class (Grant helped me to interpret this). Note that if the value in subreddit column is 1 than it is Chess and if it is 0 than it is Football."
   ]
  },
  {
   "cell_type": "code",
   "execution_count": 15,
   "id": "8e5bc3c0-8e8f-4709-835d-542edbda4b98",
   "metadata": {},
   "outputs": [
    {
     "data": {
      "text/plain": [
       "title        0\n",
       "subreddit    0\n",
       "dtype: int64"
      ]
     },
     "execution_count": 15,
     "metadata": {},
     "output_type": "execute_result"
    }
   ],
   "source": [
    "df.isnull().sum()"
   ]
  },
  {
   "cell_type": "markdown",
   "id": "6bf4d5a9-27c4-448a-bde1-c558976a0e90",
   "metadata": {},
   "source": [
    "- There are no null values."
   ]
  },
  {
   "cell_type": "code",
   "execution_count": 16,
   "id": "5398a3b2-211f-45f0-82af-6999e224746b",
   "metadata": {},
   "outputs": [
    {
     "name": "stdout",
     "output_type": "stream",
     "text": [
      "<class 'pandas.core.frame.DataFrame'>\n",
      "RangeIndex: 9332 entries, 0 to 9331\n",
      "Data columns (total 2 columns):\n",
      " #   Column     Non-Null Count  Dtype \n",
      "---  ------     --------------  ----- \n",
      " 0   title      9332 non-null   object\n",
      " 1   subreddit  9332 non-null   int64 \n",
      "dtypes: int64(1), object(1)\n",
      "memory usage: 145.9+ KB\n"
     ]
    }
   ],
   "source": [
    "df.info()"
   ]
  },
  {
   "cell_type": "code",
   "execution_count": 17,
   "id": "44cb7a0f-4d73-4470-8370-1190446a27ad",
   "metadata": {},
   "outputs": [
    {
     "data": {
      "text/plain": [
       "9332"
      ]
     },
     "execution_count": 17,
     "metadata": {},
     "output_type": "execute_result"
    }
   ],
   "source": [
    "df['title'].nunique() # Number of unique title"
   ]
  },
  {
   "cell_type": "markdown",
   "id": "814bd4fa-bf64-4543-8696-9e57532ec215",
   "metadata": {},
   "source": [
    "### CountVectorizer:"
   ]
  },
  {
   "cell_type": "code",
   "execution_count": 18,
   "id": "c993ec21-8a73-4006-9225-341c2ad18eea",
   "metadata": {},
   "outputs": [
    {
     "data": {
      "image/png": "[encoded data removed]",
      "text/plain": [
       "<Figure size 432x432 with 1 Axes>"
      ]
     },
     "metadata": {
      "needs_background": "light"
     },
     "output_type": "display_data"
    }
   ],
   "source": [
    "cvec = CountVectorizer(stop_words='english')\n",
    "cvec.fit(df[\"title\"])\n",
    "\n",
    "plt.figure(figsize=(6,6))\n",
    "X_trans = cvec.transform(df[\"title\"])\n",
    "X_trans_df=pd.DataFrame(X_trans.toarray(), columns=cvec.get_feature_names())\n",
    "X_trans_df.sum().sort_values(ascending=False).head(25).plot(kind='barh')\n",
    "plt.xlabel('Count of top 25 words used in Title for both Chess & Football other than stopwords');"
   ]
  },
  {
   "cell_type": "code",
   "execution_count": 23,
   "id": "f2c811c8-8c8b-4154-ae7a-9a5600583192",
   "metadata": {},
   "outputs": [
    {
     "data": {
      "image/png": "[encoded data removed]",
      "text/plain": [
       "<Figure size 432x792 with 1 Axes>"
      ]
     },
     "metadata": {
      "needs_background": "light"
     },
     "output_type": "display_data"
    }
   ],
   "source": [
    "cvec.fit(df_chess[\"title\"])\n",
    "\n",
    "plt.figure(figsize=(6,11))\n",
    "X_trans_chess = cvec.transform(df_chess[\"title\"])\n",
    "X_trans_df_chess=pd.DataFrame(X_trans_chess.toarray(), columns=cvec.get_feature_names())\n",
    "X_trans_df_chess.sum().sort_values(ascending=False).head(50).plot(kind='barh')\n",
    "plt.xlabel('Count of top 50 words used in Title of Chess other than stopwords');"
   ]
  },
  {
   "cell_type": "code",
   "execution_count": 24,
   "id": "43998632-c746-4c7f-b663-6cea4d98b9a2",
   "metadata": {},
   "outputs": [
    {
     "data": {
      "image/png": "[encoded data removed]",
      "text/plain": [
       "<Figure size 432x792 with 1 Axes>"
      ]
     },
     "metadata": {
      "needs_background": "light"
     },
     "output_type": "display_data"
    }
   ],
   "source": [
    "cvec.fit(df_football[\"title\"])\n",
    "\n",
    "plt.figure(figsize=(6,11))\n",
    "X_trans_football = cvec.transform(df_football[\"title\"])\n",
    "X_trans_df_football=pd.DataFrame(X_trans_football.toarray(), columns=cvec.get_feature_names())\n",
    "X_trans_df_football.sum().sort_values(ascending=False).head(50).plot(kind='barh')\n",
    "plt.xlabel('Count of top 50 words used in Title of Football other than stopwords');"
   ]
  },
  {
   "cell_type": "markdown",
   "id": "8b8ef617-0ca7-4dab-b5f1-a4e01e92ed3c",
   "metadata": {},
   "source": [
    "#### Preprocessing:"
   ]
  },
  {
   "cell_type": "code",
   "execution_count": 25,
   "id": "af580dcb-e943-4c8c-bca8-63b2961fa0fb",
   "metadata": {},
   "outputs": [
    {
     "data": {
      "text/html": [
       "<div>\n",
       "<style scoped>\n",
       "    .dataframe tbody tr th:only-of-type {\n",
       "        vertical-align: middle;\n",
       "    }\n",
       "\n",
       "    .dataframe tbody tr th {\n",
       "        vertical-align: top;\n",
       "    }\n",
       "\n",
       "    .dataframe thead th {\n",
       "        text-align: right;\n",
       "    }\n",
       "</style>\n",
       "<table border=\"1\" class=\"dataframe\">\n",
       "  <thead>\n",
       "    <tr style=\"text-align: right;\">\n",
       "      <th></th>\n",
       "      <th>title</th>\n",
       "      <th>subreddit</th>\n",
       "      <th>clean_title</th>\n",
       "    </tr>\n",
       "  </thead>\n",
       "  <tbody>\n",
       "    <tr>\n",
       "      <th>0</th>\n",
       "      <td>Sand castle in Finland, Lappeenranta called Ga...</td>\n",
       "      <td>1</td>\n",
       "      <td>sand castl in finland , lappeenranta call garr...</td>\n",
       "    </tr>\n",
       "    <tr>\n",
       "      <th>1</th>\n",
       "      <td>Quick 1300+ rating puzzle. I'm saving and shar...</td>\n",
       "      <td>1</td>\n",
       "      <td>quick + rate puzzl . i 'm save and share flash...</td>\n",
       "    </tr>\n",
       "    <tr>\n",
       "      <th>2</th>\n",
       "      <td>For some reason I like these pieces a lot. Whe...</td>\n",
       "      <td>1</td>\n",
       "      <td>for some reason i like these piec a lot . wher...</td>\n",
       "    </tr>\n",
       "    <tr>\n",
       "      <th>3</th>\n",
       "      <td>How similar is Aimless Blunder Preventer ratin...</td>\n",
       "      <td>1</td>\n",
       "      <td>how similar is aimless blunder prevent rate to...</td>\n",
       "    </tr>\n",
       "    <tr>\n",
       "      <th>4</th>\n",
       "      <td>Naka take of Zhou article</td>\n",
       "      <td>1</td>\n",
       "      <td>naka take of zhou articl</td>\n",
       "    </tr>\n",
       "    <tr>\n",
       "      <th>...</th>\n",
       "      <td>...</td>\n",
       "      <td>...</td>\n",
       "      <td>...</td>\n",
       "    </tr>\n",
       "    <tr>\n",
       "      <th>9327</th>\n",
       "      <td>Aaron Rodgers tells Packers he doesn't want to...</td>\n",
       "      <td>0</td>\n",
       "      <td>aaron rodger tell packer he doesn 't want to r...</td>\n",
       "    </tr>\n",
       "    <tr>\n",
       "      <th>9328</th>\n",
       "      <td>Pes 2021 or Fifa 21 which to buy?</td>\n",
       "      <td>0</td>\n",
       "      <td>pe or fifa which to buy ?</td>\n",
       "    </tr>\n",
       "    <tr>\n",
       "      <th>9329</th>\n",
       "      <td>[Match thread] Manchester United vs AS Roma</td>\n",
       "      <td>0</td>\n",
       "      <td>[match thread ] manchest unit vs as roma</td>\n",
       "    </tr>\n",
       "    <tr>\n",
       "      <th>9330</th>\n",
       "      <td>[Match thread] Villarreal vs Arsenal</td>\n",
       "      <td>0</td>\n",
       "      <td>[match thread ] villarr vs arsen</td>\n",
       "    </tr>\n",
       "    <tr>\n",
       "      <th>9331</th>\n",
       "      <td>Barcelona vs Granada today's match threads</td>\n",
       "      <td>0</td>\n",
       "      <td>barcelona vs granada today 's match thread</td>\n",
       "    </tr>\n",
       "  </tbody>\n",
       "</table>\n",
       "<p>9332 rows × 3 columns</p>\n",
       "</div>"
      ],
      "text/plain": [
       "                                                  title  subreddit  \\\n",
       "0     Sand castle in Finland, Lappeenranta called Ga...          1   \n",
       "1     Quick 1300+ rating puzzle. I'm saving and shar...          1   \n",
       "2     For some reason I like these pieces a lot. Whe...          1   \n",
       "3     How similar is Aimless Blunder Preventer ratin...          1   \n",
       "4                             Naka take of Zhou article          1   \n",
       "...                                                 ...        ...   \n",
       "9327  Aaron Rodgers tells Packers he doesn't want to...          0   \n",
       "9328                  Pes 2021 or Fifa 21 which to buy?          0   \n",
       "9329        [Match thread] Manchester United vs AS Roma          0   \n",
       "9330               [Match thread] Villarreal vs Arsenal          0   \n",
       "9331         Barcelona vs Granada today's match threads          0   \n",
       "\n",
       "                                            clean_title  \n",
       "0     sand castl in finland , lappeenranta call garr...  \n",
       "1     quick + rate puzzl . i 'm save and share flash...  \n",
       "2     for some reason i like these piec a lot . wher...  \n",
       "3     how similar is aimless blunder prevent rate to...  \n",
       "4                              naka take of zhou articl  \n",
       "...                                                 ...  \n",
       "9327  aaron rodger tell packer he doesn 't want to r...  \n",
       "9328                          pe or fifa which to buy ?  \n",
       "9329           [match thread ] manchest unit vs as roma  \n",
       "9330                   [match thread ] villarr vs arsen  \n",
       "9331         barcelona vs granada today 's match thread  \n",
       "\n",
       "[9332 rows x 3 columns]"
      ]
     },
     "execution_count": 25,
     "metadata": {},
     "output_type": "execute_result"
    }
   ],
   "source": [
    "lemmatizer = WordNetLemmatizer()\n",
    "stemmer = PorterStemmer() \n",
    "\n",
    "def preprocess(sentence):\n",
    "    sentence=str(sentence)\n",
    "    sentence = sentence.lower()\n",
    "    cleanr = re.compile('~!@#$%^&/:?€')\n",
    "    cleantext = re.sub(cleanr, '', sentence)\n",
    "    cleantext = re.sub('[0-9]+', '', cleantext)\n",
    "    cleantext = re.sub('_', ' ', cleantext)\n",
    "    tokenizer = RegexpTokenizer('\\w+|\\$[\\d\\.]+|\\S+|\\b+|\\t')\n",
    "    tokens = tokenizer.tokenize(cleantext)  \n",
    "    stem_words=[stemmer.stem(w) for w in tokens]\n",
    "    lemma_words=[lemmatizer.lemmatize(w) for w in stem_words]\n",
    "    return \" \".join(stem_words)\n",
    "\n",
    "\n",
    "df['clean_title']=df['title'].map(lambda s:preprocess(s)) \n",
    "df"
   ]
  },
  {
   "cell_type": "markdown",
   "id": "ea49bf98-c80e-4b9b-b445-d1c4ac8f7217",
   "metadata": {},
   "source": [
    "**Note:** The above preprocess function is directly taken from https://stackoverflow.com/questions/54396405/how-can-i-preprocess-nlp-text-lowercase-remove-special-characters-remove-numb, and then I made few changes according to my df."
   ]
  },
  {
   "cell_type": "markdown",
   "id": "398b4e4a-494f-40ef-839b-4d25b6313b7a",
   "metadata": {},
   "source": [
    "## Modeling:"
   ]
  },
  {
   "cell_type": "markdown",
   "id": "b0888474-a319-491f-a64e-3aebdfd75682",
   "metadata": {},
   "source": [
    "#### Train_Test_Split:"
   ]
  },
  {
   "cell_type": "code",
   "execution_count": 26,
   "id": "e4245a92-dcb0-4ac7-bd52-49d89901a5fc",
   "metadata": {},
   "outputs": [],
   "source": [
    "# Prepare X, y-data\n",
    "X = df['clean_title']\n",
    "y = df['subreddit'] \n",
    "X_train,X_test,y_train,y_test=train_test_split(X,y,random_state=42,stratify=y)"
   ]
  },
  {
   "cell_type": "markdown",
   "id": "bebcdc1c-30f7-4b86-9aa4-f1456806d7d7",
   "metadata": {},
   "source": [
    "#### TF-IDF Vectorizer:"
   ]
  },
  {
   "cell_type": "code",
   "execution_count": 27,
   "id": "1d61012b-ebf0-4cbf-9cee-0fe7ac8f56b1",
   "metadata": {},
   "outputs": [
    {
     "data": {
      "text/html": [
       "<div>\n",
       "<style scoped>\n",
       "    .dataframe tbody tr th:only-of-type {\n",
       "        vertical-align: middle;\n",
       "    }\n",
       "\n",
       "    .dataframe tbody tr th {\n",
       "        vertical-align: top;\n",
       "    }\n",
       "\n",
       "    .dataframe thead th {\n",
       "        text-align: right;\n",
       "    }\n",
       "</style>\n",
       "<table border=\"1\" class=\"dataframe\">\n",
       "  <thead>\n",
       "    <tr style=\"text-align: right;\">\n",
       "      <th></th>\n",
       "      <th>aaaarrrrhgggg</th>\n",
       "      <th>aagaard</th>\n",
       "      <th>aagard</th>\n",
       "      <th>aanand</th>\n",
       "      <th>aanholt</th>\n",
       "      <th>aaron</th>\n",
       "      <th>aax</th>\n",
       "      <th>abandon</th>\n",
       "      <th>abd</th>\n",
       "      <th>abdo</th>\n",
       "      <th>...</th>\n",
       "      <th>𝘰𝘶𝘳</th>\n",
       "      <th>𝘱𝘪𝘵𝘤𝘩</th>\n",
       "      <th>𝘳𝘦𝘮𝘢𝘳𝘬𝘢𝘣𝘭𝘦</th>\n",
       "      <th>𝘳𝘦𝘷𝘪𝘦𝘸</th>\n",
       "      <th>𝘳𝘶𝘭𝘪𝘯𝘨</th>\n",
       "      <th>𝘵𝘩𝘦</th>\n",
       "      <th>𝘵𝘰</th>\n",
       "      <th>𝘸𝘩𝘰</th>\n",
       "      <th>𝘺𝘦𝘢𝘳𝘴</th>\n",
       "      <th>𝟐𝟎𝟐𝟏</th>\n",
       "    </tr>\n",
       "  </thead>\n",
       "  <tbody>\n",
       "    <tr>\n",
       "      <th>0</th>\n",
       "      <td>0.0</td>\n",
       "      <td>0.0</td>\n",
       "      <td>0.0</td>\n",
       "      <td>0.0</td>\n",
       "      <td>0.0</td>\n",
       "      <td>0.0</td>\n",
       "      <td>0.0</td>\n",
       "      <td>0.0</td>\n",
       "      <td>0.0</td>\n",
       "      <td>0.0</td>\n",
       "      <td>...</td>\n",
       "      <td>0.0</td>\n",
       "      <td>0.0</td>\n",
       "      <td>0.0</td>\n",
       "      <td>0.0</td>\n",
       "      <td>0.0</td>\n",
       "      <td>0.0</td>\n",
       "      <td>0.0</td>\n",
       "      <td>0.0</td>\n",
       "      <td>0.0</td>\n",
       "      <td>0.0</td>\n",
       "    </tr>\n",
       "    <tr>\n",
       "      <th>1</th>\n",
       "      <td>0.0</td>\n",
       "      <td>0.0</td>\n",
       "      <td>0.0</td>\n",
       "      <td>0.0</td>\n",
       "      <td>0.0</td>\n",
       "      <td>0.0</td>\n",
       "      <td>0.0</td>\n",
       "      <td>0.0</td>\n",
       "      <td>0.0</td>\n",
       "      <td>0.0</td>\n",
       "      <td>...</td>\n",
       "      <td>0.0</td>\n",
       "      <td>0.0</td>\n",
       "      <td>0.0</td>\n",
       "      <td>0.0</td>\n",
       "      <td>0.0</td>\n",
       "      <td>0.0</td>\n",
       "      <td>0.0</td>\n",
       "      <td>0.0</td>\n",
       "      <td>0.0</td>\n",
       "      <td>0.0</td>\n",
       "    </tr>\n",
       "    <tr>\n",
       "      <th>2</th>\n",
       "      <td>0.0</td>\n",
       "      <td>0.0</td>\n",
       "      <td>0.0</td>\n",
       "      <td>0.0</td>\n",
       "      <td>0.0</td>\n",
       "      <td>0.0</td>\n",
       "      <td>0.0</td>\n",
       "      <td>0.0</td>\n",
       "      <td>0.0</td>\n",
       "      <td>0.0</td>\n",
       "      <td>...</td>\n",
       "      <td>0.0</td>\n",
       "      <td>0.0</td>\n",
       "      <td>0.0</td>\n",
       "      <td>0.0</td>\n",
       "      <td>0.0</td>\n",
       "      <td>0.0</td>\n",
       "      <td>0.0</td>\n",
       "      <td>0.0</td>\n",
       "      <td>0.0</td>\n",
       "      <td>0.0</td>\n",
       "    </tr>\n",
       "    <tr>\n",
       "      <th>3</th>\n",
       "      <td>0.0</td>\n",
       "      <td>0.0</td>\n",
       "      <td>0.0</td>\n",
       "      <td>0.0</td>\n",
       "      <td>0.0</td>\n",
       "      <td>0.0</td>\n",
       "      <td>0.0</td>\n",
       "      <td>0.0</td>\n",
       "      <td>0.0</td>\n",
       "      <td>0.0</td>\n",
       "      <td>...</td>\n",
       "      <td>0.0</td>\n",
       "      <td>0.0</td>\n",
       "      <td>0.0</td>\n",
       "      <td>0.0</td>\n",
       "      <td>0.0</td>\n",
       "      <td>0.0</td>\n",
       "      <td>0.0</td>\n",
       "      <td>0.0</td>\n",
       "      <td>0.0</td>\n",
       "      <td>0.0</td>\n",
       "    </tr>\n",
       "    <tr>\n",
       "      <th>4</th>\n",
       "      <td>0.0</td>\n",
       "      <td>0.0</td>\n",
       "      <td>0.0</td>\n",
       "      <td>0.0</td>\n",
       "      <td>0.0</td>\n",
       "      <td>0.0</td>\n",
       "      <td>0.0</td>\n",
       "      <td>0.0</td>\n",
       "      <td>0.0</td>\n",
       "      <td>0.0</td>\n",
       "      <td>...</td>\n",
       "      <td>0.0</td>\n",
       "      <td>0.0</td>\n",
       "      <td>0.0</td>\n",
       "      <td>0.0</td>\n",
       "      <td>0.0</td>\n",
       "      <td>0.0</td>\n",
       "      <td>0.0</td>\n",
       "      <td>0.0</td>\n",
       "      <td>0.0</td>\n",
       "      <td>0.0</td>\n",
       "    </tr>\n",
       "  </tbody>\n",
       "</table>\n",
       "<p>5 rows × 6793 columns</p>\n",
       "</div>"
      ],
      "text/plain": [
       "   aaaarrrrhgggg  aagaard  aagard  aanand  aanholt  aaron  aax  abandon  abd  \\\n",
       "0            0.0      0.0     0.0     0.0      0.0    0.0  0.0      0.0  0.0   \n",
       "1            0.0      0.0     0.0     0.0      0.0    0.0  0.0      0.0  0.0   \n",
       "2            0.0      0.0     0.0     0.0      0.0    0.0  0.0      0.0  0.0   \n",
       "3            0.0      0.0     0.0     0.0      0.0    0.0  0.0      0.0  0.0   \n",
       "4            0.0      0.0     0.0     0.0      0.0    0.0  0.0      0.0  0.0   \n",
       "\n",
       "   abdo  ...  𝘰𝘶𝘳  𝘱𝘪𝘵𝘤𝘩  𝘳𝘦𝘮𝘢𝘳𝘬𝘢𝘣𝘭𝘦  𝘳𝘦𝘷𝘪𝘦𝘸  𝘳𝘶𝘭𝘪𝘯𝘨  𝘵𝘩𝘦   𝘵𝘰  𝘸𝘩𝘰  𝘺𝘦𝘢𝘳𝘴  \\\n",
       "0   0.0  ...  0.0    0.0         0.0     0.0     0.0  0.0  0.0  0.0    0.0   \n",
       "1   0.0  ...  0.0    0.0         0.0     0.0     0.0  0.0  0.0  0.0    0.0   \n",
       "2   0.0  ...  0.0    0.0         0.0     0.0     0.0  0.0  0.0  0.0    0.0   \n",
       "3   0.0  ...  0.0    0.0         0.0     0.0     0.0  0.0  0.0  0.0    0.0   \n",
       "4   0.0  ...  0.0    0.0         0.0     0.0     0.0  0.0  0.0  0.0    0.0   \n",
       "\n",
       "   𝟐𝟎𝟐𝟏  \n",
       "0   0.0  \n",
       "1   0.0  \n",
       "2   0.0  \n",
       "3   0.0  \n",
       "4   0.0  \n",
       "\n",
       "[5 rows x 6793 columns]"
      ]
     },
     "execution_count": 27,
     "metadata": {},
     "output_type": "execute_result"
    }
   ],
   "source": [
    "tvec = TfidfVectorizer(stop_words = 'english') \n",
    "\n",
    "X_train_tvec = tvec.fit_transform(X_train)\n",
    "X_test_tvec = tvec.transform(X_test)\n",
    "\n",
    "tvec_df = pd.DataFrame(X_train_tvec.todense(),columns=tvec.get_feature_names())\n",
    "tvec_df.head()"
   ]
  },
  {
   "cell_type": "markdown",
   "id": "83209cf0-3324-42b6-b763-bb83b5ae6c4a",
   "metadata": {},
   "source": [
    "### Model 1: Random Forest"
   ]
  },
  {
   "cell_type": "code",
   "execution_count": 163,
   "id": "6d8a2e96-0052-464a-a385-4ea09ad84083",
   "metadata": {},
   "outputs": [],
   "source": [
    "# Random Forest\n",
    "rf=RandomForestClassifier(n_estimators=100) #number of trees"
   ]
  },
  {
   "cell_type": "code",
   "execution_count": 164,
   "id": "3d5fb82c-ae7b-4547-ac99-bc6332834633",
   "metadata": {},
   "outputs": [],
   "source": [
    "# Extra trees\n",
    "et=ExtraTreesClassifier(n_estimators=100)"
   ]
  },
  {
   "cell_type": "code",
   "execution_count": 165,
   "id": "93d70dea-0753-4930-be3f-1d29c7f17892",
   "metadata": {},
   "outputs": [
    {
     "name": "stdout",
     "output_type": "stream",
     "text": [
      "cross_val_score of rf:  0.9119869294393954\n",
      "cross_val_score of et:  0.9232733585213928\n"
     ]
    }
   ],
   "source": [
    "print('cross_val_score of rf: ',cross_val_score(rf, X_train_tvec, y_train, cv=5).mean())\n",
    "print('cross_val_score of et: ',cross_val_score(et,X_train_tvec,y_train).mean())"
   ]
  },
  {
   "cell_type": "markdown",
   "id": "199431a4-5c8f-4d91-ad2f-cb052081e5c7",
   "metadata": {},
   "source": [
    "**Note:** Extra Trees has a better cross_val_score at this moment. But I am going with Random Forest Model here since it is one of the project's requirements."
   ]
  },
  {
   "cell_type": "markdown",
   "id": "b1913e09-d08f-46b2-a960-21901dcd9484",
   "metadata": {},
   "source": [
    "#### Params and Gridsearch:"
   ]
  },
  {
   "cell_type": "code",
   "execution_count": 167,
   "id": "69645f85-9012-4548-832f-d5945965a6c9",
   "metadata": {},
   "outputs": [
    {
     "data": {
      "text/plain": [
       "GridSearchCV(cv=5, estimator=RandomForestClassifier(),\n",
       "             param_grid={'max_depth': [None, 1, 2, 3, 4, 5, 10],\n",
       "                         'n_estimators': [100, 150, 200]})"
      ]
     },
     "execution_count": 167,
     "metadata": {},
     "output_type": "execute_result"
    }
   ],
   "source": [
    "rf_params={\n",
    "    'n_estimators':[100,150,200],\n",
    "    'max_depth'   :[None,1,2,3,4,5,10]\n",
    "}\n",
    "\n",
    "gs=GridSearchCV(rf,param_grid=rf_params,cv=5)\n",
    "gs.fit(X_train_tvec,y_train)"
   ]
  },
  {
   "cell_type": "code",
   "execution_count": 168,
   "id": "b9a158c7-f757-4f0f-8fbf-d4c50d7bf4d2",
   "metadata": {},
   "outputs": [
    {
     "name": "stdout",
     "output_type": "stream",
     "text": [
      "0.911700908812417\n"
     ]
    },
    {
     "data": {
      "text/plain": [
       "{'max_depth': None, 'n_estimators': 100}"
      ]
     },
     "execution_count": 168,
     "metadata": {},
     "output_type": "execute_result"
    }
   ],
   "source": [
    "print(gs.best_score_)\n",
    "gs.best_params_"
   ]
  },
  {
   "cell_type": "code",
   "execution_count": 169,
   "id": "f33a5ffe-6be6-4581-9bcf-01fa699e4d7d",
   "metadata": {},
   "outputs": [
    {
     "data": {
      "text/plain": [
       "0.9997142448921275"
      ]
     },
     "execution_count": 169,
     "metadata": {},
     "output_type": "execute_result"
    }
   ],
   "source": [
    "# train score\n",
    "gs.score(X_train_tvec,y_train)"
   ]
  },
  {
   "cell_type": "code",
   "execution_count": 170,
   "id": "c87ed27d-1f3c-45d8-a1c7-887a2249ba22",
   "metadata": {},
   "outputs": [
    {
     "data": {
      "text/plain": [
       "0.9202743249035577"
      ]
     },
     "execution_count": 170,
     "metadata": {},
     "output_type": "execute_result"
    }
   ],
   "source": [
    "# test score\n",
    "gs.score(X_test_tvec,y_test)"
   ]
  },
  {
   "cell_type": "markdown",
   "id": "0198a3d6-2208-4686-87e3-d3cb56fc0ff1",
   "metadata": {},
   "source": [
    "**Interpretation:** Since our train score is greater than test score so our model is overfit."
   ]
  },
  {
   "cell_type": "code",
   "execution_count": 171,
   "id": "5b9ef289-e162-48d0-b364-d532cd66da28",
   "metadata": {},
   "outputs": [],
   "source": [
    "y_pred = gs.predict(X_test_tvec)"
   ]
  },
  {
   "cell_type": "code",
   "execution_count": 172,
   "id": "409e6b6a-2799-4127-be66-a2fa89b011e1",
   "metadata": {},
   "outputs": [
    {
     "name": "stdout",
     "output_type": "stream",
     "text": [
      "Accuracy: 0.9202743249035577\n"
     ]
    }
   ],
   "source": [
    "# Save confusion matrix values\n",
    "cm = confusion_matrix(y_test, y_pred)\n",
    "tn, fp, fn, tp = cm.ravel()\n",
    "\n",
    "# Calculates the accuracy\n",
    "\n",
    "accuracy = (tn+tp)/(tn+fp+fn+tp)\n",
    "\n",
    "print('Accuracy:', accuracy)"
   ]
  },
  {
   "cell_type": "code",
   "execution_count": 173,
   "id": "99d2b3b5-8632-47dc-b69e-ed67d0457dab",
   "metadata": {},
   "outputs": [
    {
     "data": {
      "image/png": "[encoded data removed]",
      "text/plain": [
       "<Figure size 432x288 with 2 Axes>"
      ]
     },
     "metadata": {
      "needs_background": "light"
     },
     "output_type": "display_data"
    }
   ],
   "source": [
    "# visualize this\n",
    "ConfusionMatrixDisplay(cm).plot();"
   ]
  },
  {
   "cell_type": "markdown",
   "id": "178d83fa-e450-4b00-a7cb-9be6fd2ec327",
   "metadata": {},
   "source": [
    "### Model 2: Logistic Regression "
   ]
  },
  {
   "cell_type": "code",
   "execution_count": 174,
   "id": "8e85b9b2-5b17-406e-8152-f0711c0a308d",
   "metadata": {},
   "outputs": [
    {
     "data": {
      "text/plain": [
       "LogisticRegression()"
      ]
     },
     "execution_count": 174,
     "metadata": {},
     "output_type": "execute_result"
    }
   ],
   "source": [
    "lr = LogisticRegression()\n",
    "lr.fit(X_train_tvec, y_train)"
   ]
  },
  {
   "cell_type": "code",
   "execution_count": 175,
   "id": "f3c65b80-6cad-45b1-97c0-0636f818abe7",
   "metadata": {},
   "outputs": [
    {
     "data": {
      "text/plain": [
       "0.9295615235372205"
      ]
     },
     "execution_count": 175,
     "metadata": {},
     "output_type": "execute_result"
    }
   ],
   "source": [
    "# train score\n",
    "cross_val_score(lr, X_train_tvec, y_train, cv=5).mean()"
   ]
  },
  {
   "cell_type": "code",
   "execution_count": 176,
   "id": "2039a126-5fcc-44ea-9076-702a276b693a",
   "metadata": {},
   "outputs": [
    {
     "data": {
      "text/plain": [
       "0.9099925558996793"
      ]
     },
     "execution_count": 176,
     "metadata": {},
     "output_type": "execute_result"
    }
   ],
   "source": [
    "# test score\n",
    "cross_val_score(lr, X_test_tvec, y_test, cv=5).mean()"
   ]
  },
  {
   "cell_type": "markdown",
   "id": "118456b6-fb8c-46bb-a67b-646717f3becc",
   "metadata": {},
   "source": [
    "**Interpretation:** Since our train score is slighly greater than test score so our model is slightly overfit. But if you take 2% margin than we can say that this model is fit."
   ]
  },
  {
   "cell_type": "code",
   "execution_count": 177,
   "id": "eca673cd-6466-401e-a477-b4de828ce150",
   "metadata": {},
   "outputs": [],
   "source": [
    "y_pred = lr.predict(X_test_tvec)"
   ]
  },
  {
   "cell_type": "code",
   "execution_count": 178,
   "id": "d997b7d2-b8f9-4923-907f-3081154ef924",
   "metadata": {},
   "outputs": [
    {
     "name": "stdout",
     "output_type": "stream",
     "text": [
      "Accuracy: 0.9322760394342049\n"
     ]
    }
   ],
   "source": [
    "# Save confusion matrix values\n",
    "cm = confusion_matrix(y_test, y_pred)\n",
    "tn, fp, fn, tp = cm.ravel()\n",
    "\n",
    "# Calculates the accuracy\n",
    "\n",
    "accuracy = (tn+tp)/(tn+fp+fn+tp)\n",
    "\n",
    "print('Accuracy:', accuracy)"
   ]
  },
  {
   "cell_type": "code",
   "execution_count": 179,
   "id": "d0432e8d-c34f-450f-9237-a061c9e358b1",
   "metadata": {},
   "outputs": [
    {
     "data": {
      "image/png": "[encoded data removed]",
      "text/plain": [
       "<Figure size 432x288 with 2 Axes>"
      ]
     },
     "metadata": {
      "needs_background": "light"
     },
     "output_type": "display_data"
    }
   ],
   "source": [
    "# visualize this\n",
    "ConfusionMatrixDisplay(cm).plot();"
   ]
  },
  {
   "cell_type": "markdown",
   "id": "090ae494-a1ea-4933-a222-9b95567cf8ef",
   "metadata": {},
   "source": [
    "### Model 3: Naive Bayes"
   ]
  },
  {
   "cell_type": "code",
   "execution_count": 180,
   "id": "a0fbecb6-ce8d-45a2-a149-4ab38f913541",
   "metadata": {},
   "outputs": [],
   "source": [
    "from sklearn.naive_bayes import MultinomialNB, BernoulliNB\n",
    "bayes = BernoulliNB()"
   ]
  },
  {
   "cell_type": "code",
   "execution_count": 181,
   "id": "b1b07a42-6de2-40d0-8491-4dc1b0fffe2c",
   "metadata": {},
   "outputs": [
    {
     "data": {
      "text/plain": [
       "BernoulliNB()"
      ]
     },
     "execution_count": 181,
     "metadata": {},
     "output_type": "execute_result"
    }
   ],
   "source": [
    "bayes.fit(X_train_tvec,y_train)"
   ]
  },
  {
   "cell_type": "code",
   "execution_count": 182,
   "id": "e664d324-63e5-43a1-b90d-f425c239ea21",
   "metadata": {},
   "outputs": [],
   "source": [
    "from sklearn.pipeline import Pipeline"
   ]
  },
  {
   "cell_type": "code",
   "execution_count": 183,
   "id": "c539e88b-a372-42d8-8dc1-2282b43d9b7e",
   "metadata": {},
   "outputs": [],
   "source": [
    "pipe = Pipeline([\n",
    "    ('tvec', TfidfVectorizer()),\n",
    "    ('nb', MultinomialNB())\n",
    "])"
   ]
  },
  {
   "cell_type": "code",
   "execution_count": 184,
   "id": "75cf23ac-8546-424f-9fae-9014c7560543",
   "metadata": {},
   "outputs": [],
   "source": [
    "pipe_params = {\n",
    "    'tvec__max_features': [2_000, 3_000, 4_000, 5_000],\n",
    "    'tvec__min_df': [2, 3],\n",
    "    'tvec__max_df': [.9, .95],\n",
    "    'tvec__ngram_range': [(1,1), (1,2)]\n",
    "}"
   ]
  },
  {
   "cell_type": "code",
   "execution_count": 185,
   "id": "acda852a-d611-48be-9adb-3ac4ba2f4248",
   "metadata": {},
   "outputs": [],
   "source": [
    "gs = GridSearchCV(pipe, # what object are we optimizing?\n",
    "                  param_grid=pipe_params, # what parameters values are we searching?\n",
    "                  cv=5) # 5-fold cross-validation."
   ]
  },
  {
   "cell_type": "code",
   "execution_count": 186,
   "id": "ddb362cc-ca05-446f-8181-6b4585fa3e9c",
   "metadata": {},
   "outputs": [
    {
     "data": {
      "text/plain": [
       "GridSearchCV(cv=5,\n",
       "             estimator=Pipeline(steps=[('tvec', TfidfVectorizer()),\n",
       "                                       ('nb', MultinomialNB())]),\n",
       "             param_grid={'tvec__max_df': [0.9, 0.95],\n",
       "                         'tvec__max_features': [2000, 3000, 4000, 5000],\n",
       "                         'tvec__min_df': [2, 3],\n",
       "                         'tvec__ngram_range': [(1, 1), (1, 2)]})"
      ]
     },
     "execution_count": 186,
     "metadata": {},
     "output_type": "execute_result"
    }
   ],
   "source": [
    "# Fit GridSearch to training data.\n",
    "gs.fit(X_train, y_train)"
   ]
  },
  {
   "cell_type": "code",
   "execution_count": 187,
   "id": "adedd1c3-fa14-4146-9a15-d90925bfd849",
   "metadata": {},
   "outputs": [
    {
     "name": "stdout",
     "output_type": "stream",
     "text": [
      "0.9304181558255898\n"
     ]
    }
   ],
   "source": [
    "# What's the best score?\n",
    "print(gs.best_score_)"
   ]
  },
  {
   "cell_type": "code",
   "execution_count": 188,
   "id": "eff7cd91-1498-4f28-a1b5-739a7e312542",
   "metadata": {},
   "outputs": [
    {
     "data": {
      "text/plain": [
       "0.9589941420202887"
      ]
     },
     "execution_count": 188,
     "metadata": {},
     "output_type": "execute_result"
    }
   ],
   "source": [
    "# Score model on training set.\n",
    "gs.score(X_train, y_train)"
   ]
  },
  {
   "cell_type": "code",
   "execution_count": 189,
   "id": "2079b721-892d-4de7-82f5-917b236a3aeb",
   "metadata": {},
   "outputs": [
    {
     "data": {
      "text/plain": [
       "0.9374196313759109"
      ]
     },
     "execution_count": 189,
     "metadata": {},
     "output_type": "execute_result"
    }
   ],
   "source": [
    "# Score model on testing set.\n",
    "gs.score(X_test, y_test)"
   ]
  },
  {
   "cell_type": "markdown",
   "id": "dd6d297e-982a-45e5-9b1e-55c36fad9c50",
   "metadata": {},
   "source": [
    "**Interpretation:** Since our train score is slighly greater than test score so our model is slightly overfit. But if you take 2% margin than we can say that this model is fit."
   ]
  },
  {
   "cell_type": "code",
   "execution_count": 190,
   "id": "e2d4f578-c6c9-4abf-ac49-958d6af5b30a",
   "metadata": {},
   "outputs": [],
   "source": [
    "# Get predictions\n",
    "preds = gs.predict(X_test)\n",
    "\n",
    "# Save confusion matrix values\n",
    "cm = confusion_matrix(y_test, preds)\n",
    "tn, fp, fn, tp = cm.ravel()"
   ]
  },
  {
   "cell_type": "code",
   "execution_count": 191,
   "id": "257ef9af-2890-44db-aef1-f010afed5e71",
   "metadata": {},
   "outputs": [
    {
     "name": "stdout",
     "output_type": "stream",
     "text": [
      "Accuracy: 0.9374196313759109\n"
     ]
    }
   ],
   "source": [
    "# Calculates the accuracy\n",
    "\n",
    "accuracy = (tn+tp)/(tn+fp+fn+tp)\n",
    "\n",
    "print('Accuracy:', accuracy)"
   ]
  },
  {
   "cell_type": "code",
   "execution_count": 192,
   "id": "38084cfb-de13-4ec6-a993-c1c6878112b5",
   "metadata": {},
   "outputs": [
    {
     "data": {
      "image/png": "[encoded data removed]",
      "text/plain": [
       "<Figure size 432x288 with 2 Axes>"
      ]
     },
     "metadata": {
      "needs_background": "light"
     },
     "output_type": "display_data"
    }
   ],
   "source": [
    "# View confusion matrix\n",
    "ConfusionMatrixDisplay(cm).plot();"
   ]
  },
  {
   "cell_type": "markdown",
   "id": "182cd761-fbd3-47cf-8cf9-cfdc99ec56b7",
   "metadata": {},
   "source": [
    "## Conclusions and Recommendations:"
   ]
  },
  {
   "cell_type": "markdown",
   "id": "e455c937-bdc8-4c1b-af40-862c26815802",
   "metadata": {},
   "source": [
    "- I have compared all the models on the basis of their score and Accuracy. I have chose accuracy and not specificity because here we are not worried if we have some false positives (like I predicted that a post came from Chess but it was actually from Football, it is not doing any harm to anyone). Here we are just trying to get our predictions right as much as possible.\n",
    "- All the three models (RF, Logistic, and Naive Bayes) performed really well as all of them have cross_val_score and accuracy more than 90. \n",
    "- Naive Bayes model was the best among them with an accuracy of 93.7%, which is way better than our baseline score (52%). This means that our model will correctly predict 94 out of 100 times that a given post came from Chess or not.\n",
    "- Companies selling Chess and Football products can also be benefited with our findings. We can let them know the top 25-50 words that appeared in the titles so that they can focus on them and make more products related to them to make money."
   ]
  }
 ],
 "metadata": {
  "kernelspec": {
   "display_name": "Python 3",
   "language": "python",
   "name": "python3"
  },
  "language_info": {
   "codemirror_mode": {
    "name": "ipython",
    "version": 3
   },
   "file_extension": ".py",
   "mimetype": "text/x-python",
   "name": "python",
   "nbconvert_exporter": "python",
   "pygments_lexer": "ipython3",
   "version": "3.8.8"
  }
 },
 "nbformat": 4,
 "nbformat_minor": 5
}
